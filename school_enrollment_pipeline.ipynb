{
 "cells": [
  {
   "cell_type": "markdown",
   "metadata": {},
   "source": [
    "## California School Enrollment\n",
    "\n",
    "This pipeline downloads historical school enrollment data from California Department of Education (https://dq.cde.ca.gov/dataquest) and saves them in corresponding text files.\n",
    "Data dictionary: https://www.cde.ca.gov/ds/sd/sd/fsenr.asp"
   ]
  },
  {
   "cell_type": "code",
   "execution_count": 1,
   "metadata": {},
   "outputs": [
    {
     "name": "stdout",
     "output_type": "stream",
     "text": [
      "url, outfilename:  http://dq.cde.ca.gov/dataquest/dlfile/dlfile.aspx?cLevel=School&cYear=2009-10&cCat=Enrollment&cPage=filesenr.asp data/2009filesenr.asp.txt\n",
      "url, outfilename:  http://dq.cde.ca.gov/dataquest/dlfile/dlfile.aspx?cLevel=School&cYear=2010-11&cCat=Enrollment&cPage=filesenr.asp data/2010filesenr.asp.txt\n",
      "url, outfilename:  http://dq.cde.ca.gov/dataquest/dlfile/dlfile.aspx?cLevel=School&cYear=2011-12&cCat=Enrollment&cPage=filesenr.asp data/2011filesenr.asp.txt\n",
      "url, outfilename:  http://dq.cde.ca.gov/dataquest/dlfile/dlfile.aspx?cLevel=School&cYear=2012-13&cCat=Enrollment&cPage=filesenr.asp data/2012filesenr.asp.txt\n",
      "url, outfilename:  http://dq.cde.ca.gov/dataquest/dlfile/dlfile.aspx?cLevel=School&cYear=2013-14&cCat=Enrollment&cPage=filesenr.asp data/2013filesenr.asp.txt\n",
      "url, outfilename:  http://dq.cde.ca.gov/dataquest/dlfile/dlfile.aspx?cLevel=School&cYear=2014-15&cCat=Enrollment&cPage=filesenr.asp data/2014filesenr.asp.txt\n",
      "url, outfilename:  http://dq.cde.ca.gov/dataquest/dlfile/dlfile.aspx?cLevel=School&cYear=2015-16&cCat=Enrollment&cPage=filesenr.asp data/2015filesenr.asp.txt\n",
      "url, outfilename:  http://dq.cde.ca.gov/dataquest/dlfile/dlfile.aspx?cLevel=School&cYear=2016-17&cCat=Enrollment&cPage=filesenr.asp data/2016filesenr.asp.txt\n",
      "url, outfilename:  http://dq.cde.ca.gov/dataquest/dlfile/dlfile.aspx?cLevel=School&cYear=2017-18&cCat=Enrollment&cPage=filesenr.asp data/2017filesenr.asp.txt\n",
      "url, outfilename:  http://dq.cde.ca.gov/dataquest/dlfile/dlfile.aspx?cLevel=School&cYear=2018-19&cCat=Enrollment&cPage=filesenr.asp data/2018filesenr.asp.txt\n"
     ]
    }
   ],
   "source": [
    "import requests\n",
    "\n",
    "years = list(range(2009, 2019))\n",
    "\n",
    "for year in years:\n",
    "    url = ('http://dq.cde.ca.gov/dataquest/dlfile/dlfile.aspx?cLevel=School&cYear={}-{}&cCat=Enrollment&cPage=filesenr.asp'\n",
    "            .format(year, str(year+1)[2:]))\n",
    "    outfilename = 'data/{}filesenr.asp.txt'.format(year)\n",
    "    print('url, outfilename: ', url, outfilename)\n",
    "    r = requests.get(url, allow_redirects=True)\n",
    "    open(outfilename, 'wb').write(r.content)"
   ]
  },
  {
   "cell_type": "code",
   "execution_count": 2,
   "metadata": {},
   "outputs": [],
   "source": [
    "key_columns = ['CDS_CODE', 'ETHNIC', 'GENDER']\n",
    "grade_columns = ['KDGN', 'GR_1', 'GR_2', 'GR_3', 'GR_4', 'GR_5', \n",
    "                 'GR_6', 'GR_7', 'GR_8', 'GR_9', 'GR_10', 'GR_11', 'GR_12',\n",
    "                 'UNGR_ELM', 'UNGR_SEC']\n",
    "ethnic_lkup_list = ['Not reported',\n",
    "                    'American Indian or Alaska Native',\n",
    "                    'Asian',\n",
    "                    'Pacific Islander',\n",
    "                    'Filipino',\n",
    "                    'Hispanic or Latino',\n",
    "                    'African American',\n",
    "                    'White',\n",
    "                    'N/A',\n",
    "                    'Two or More Races']"
   ]
  },
  {
   "cell_type": "code",
   "execution_count": 5,
   "metadata": {},
   "outputs": [
    {
     "name": "stdout",
     "output_type": "stream",
     "text": [
      "(1282384, 24)\n"
     ]
    }
   ],
   "source": [
    "import os\n",
    "import re\n",
    "import pandas as pd\n",
    "\n",
    "input_dir = 'data'\n",
    "enrollment_filenames = sorted([filename for filename in os.listdir(input_dir) if re.match('\\d+filesenr', filename)])\n",
    "enrollment_dfs = []\n",
    "for filename in enrollment_filenames:\n",
    "    df = pd.read_csv(input_dir + \"/\" + filename, delimiter=\"\\t\")\n",
    "    df['YEAR'] = int(filename[:4]) # add the year column\n",
    "    enrollment_dfs.append(df)\n",
    "\n",
    "combined_df = pd.concat(enrollment_dfs, axis=0)\n",
    "print(combined_df.shape)"
   ]
  },
  {
   "cell_type": "code",
   "execution_count": 6,
   "metadata": {},
   "outputs": [],
   "source": [
    "# update the ethnic column to be the corresponding description\n",
    "combined_df['ETHNIC'] = combined_df['ETHNIC'].apply(lambda x: ethnic_lkup_list[x])"
   ]
  },
  {
   "cell_type": "code",
   "execution_count": 7,
   "metadata": {},
   "outputs": [],
   "source": [
    "# output the historical enrollment data into one file\n",
    "combined_df.to_csv(input_dir + \"/\" +'school_enrollment_demographics.csv')"
   ]
  }
 ],
 "metadata": {
  "kernelspec": {
   "display_name": "Python 3",
   "language": "python",
   "name": "python3"
  },
  "language_info": {
   "codemirror_mode": {
    "name": "ipython",
    "version": 3
   },
   "file_extension": ".py",
   "mimetype": "text/x-python",
   "name": "python",
   "nbconvert_exporter": "python",
   "pygments_lexer": "ipython3",
   "version": "3.6.8"
  }
 },
 "nbformat": 4,
 "nbformat_minor": 2
}
